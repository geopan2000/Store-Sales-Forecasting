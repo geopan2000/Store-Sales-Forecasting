{
  "nbformat": 4,
  "nbformat_minor": 0,
  "metadata": {
    "colab": {
      "provenance": [],
      "gpuType": "V28",
      "machine_shape": "hm",
      "authorship_tag": "ABX9TyM9YgeCh7esSWnm8KcW+kXq",
      "include_colab_link": true
    },
    "kernelspec": {
      "name": "python3",
      "display_name": "Python 3"
    },
    "language_info": {
      "name": "python"
    },
    "accelerator": "TPU"
  },
  "cells": [
    {
      "cell_type": "markdown",
      "metadata": {
        "id": "view-in-github",
        "colab_type": "text"
      },
      "source": [
        "<a href=\"https://colab.research.google.com/github/geopan2000/Loan-Approval-Prediction/blob/main/LoanApprovalPrediction.ipynb\" target=\"_parent\"><img src=\"https://colab.research.google.com/assets/colab-badge.svg\" alt=\"Open In Colab\"/></a>"
      ]
    },
    {
      "cell_type": "code",
      "execution_count": 305,
      "metadata": {
        "id": "-qSSzXu6sNOP",
        "outputId": "6af300d7-16d1-4537-b69d-d47d4c291b07",
        "colab": {
          "base_uri": "https://localhost:8080/"
        }
      },
      "outputs": [
        {
          "output_type": "stream",
          "name": "stdout",
          "text": [
            "Cloning into 'Loan-Approval-Prediction'...\n",
            "remote: Enumerating objects: 55, done.\u001b[K\n",
            "remote: Counting objects: 100% (55/55), done.\u001b[K\n",
            "remote: Compressing objects: 100% (50/50), done.\u001b[K\n",
            "remote: Total 55 (delta 25), reused 0 (delta 0), pack-reused 0 (from 0)\u001b[K\n",
            "Receiving objects: 100% (55/55), 2.12 MiB | 5.49 MiB/s, done.\n",
            "Resolving deltas: 100% (25/25), done.\n",
            "/content/Loan-Approval-Prediction/Loan-Approval-Prediction/Loan-Approval-Prediction/Loan-Approval-Prediction/Loan-Approval-Prediction/Loan-Approval-Prediction/Loan-Approval-Prediction/Loan-Approval-Prediction/Loan-Approval-Prediction/Loan-Approval-Prediction/Loan-Approval-Prediction/Loan-Approval-Prediction/Loan-Approval-Prediction/Loan-Approval-Prediction/Loan-Approval-Prediction/Loan-Approval-Prediction/Loan-Approval-Prediction/Loan-Approval-Prediction/Loan-Approval-Prediction\n"
          ]
        }
      ],
      "source": [
        "# Clone the GitHub repository\n",
        "!git clone https://github.com/geopan2000/Loan-Approval-Prediction.git\n",
        "\n",
        "# Change directory to the cloned repository\n",
        "%cd Loan-Approval-Prediction"
      ]
    },
    {
      "cell_type": "code",
      "source": [
        "import pandas as pd\n",
        "import numpy as np\n",
        "!pip install xgboost\n",
        "import xgboost as xgb\n",
        "\n",
        "!pip install imbalanced-learn\n",
        "!pip install scikit-optimize\n",
        "!pip install shap\n",
        "from skopt import BayesSearchCV\n",
        "from skopt.space import Real, Integer\n",
        "\n",
        "from sklearn.model_selection import KFold\n",
        "from skopt import BayesSearchCV\n",
        "from skopt.space import Real, Integer\n",
        "from sklearn.preprocessing import LabelEncoder\n",
        "import pandas as pd\n",
        "from google.colab import files\n",
        "from sklearn.metrics import roc_auc_score, classification_report"
      ],
      "metadata": {
        "colab": {
          "base_uri": "https://localhost:8080/"
        },
        "id": "82ANfQ6mVA_n",
        "outputId": "fe996dd4-4595-4708-c75d-066ee7b97bca"
      },
      "execution_count": 306,
      "outputs": [
        {
          "output_type": "stream",
          "name": "stdout",
          "text": [
            "Requirement already satisfied: xgboost in /usr/local/lib/python3.10/dist-packages (2.1.2)\n",
            "Requirement already satisfied: numpy in /usr/local/lib/python3.10/dist-packages (from xgboost) (1.26.4)\n",
            "Requirement already satisfied: nvidia-nccl-cu12 in /usr/local/lib/python3.10/dist-packages (from xgboost) (2.23.4)\n",
            "Requirement already satisfied: scipy in /usr/local/lib/python3.10/dist-packages (from xgboost) (1.13.1)\n",
            "Requirement already satisfied: imbalanced-learn in /usr/local/lib/python3.10/dist-packages (0.12.4)\n",
            "Requirement already satisfied: numpy>=1.17.3 in /usr/local/lib/python3.10/dist-packages (from imbalanced-learn) (1.26.4)\n",
            "Requirement already satisfied: scipy>=1.5.0 in /usr/local/lib/python3.10/dist-packages (from imbalanced-learn) (1.13.1)\n",
            "Requirement already satisfied: scikit-learn>=1.0.2 in /usr/local/lib/python3.10/dist-packages (from imbalanced-learn) (1.5.2)\n",
            "Requirement already satisfied: joblib>=1.1.1 in /usr/local/lib/python3.10/dist-packages (from imbalanced-learn) (1.4.2)\n",
            "Requirement already satisfied: threadpoolctl>=2.0.0 in /usr/local/lib/python3.10/dist-packages (from imbalanced-learn) (3.5.0)\n",
            "Requirement already satisfied: scikit-optimize in /usr/local/lib/python3.10/dist-packages (0.10.2)\n",
            "Requirement already satisfied: joblib>=0.11 in /usr/local/lib/python3.10/dist-packages (from scikit-optimize) (1.4.2)\n",
            "Requirement already satisfied: pyaml>=16.9 in /usr/local/lib/python3.10/dist-packages (from scikit-optimize) (24.9.0)\n",
            "Requirement already satisfied: numpy>=1.20.3 in /usr/local/lib/python3.10/dist-packages (from scikit-optimize) (1.26.4)\n",
            "Requirement already satisfied: scipy>=1.1.0 in /usr/local/lib/python3.10/dist-packages (from scikit-optimize) (1.13.1)\n",
            "Requirement already satisfied: scikit-learn>=1.0.0 in /usr/local/lib/python3.10/dist-packages (from scikit-optimize) (1.5.2)\n",
            "Requirement already satisfied: packaging>=21.3 in /usr/local/lib/python3.10/dist-packages (from scikit-optimize) (24.2)\n",
            "Requirement already satisfied: PyYAML in /usr/local/lib/python3.10/dist-packages (from pyaml>=16.9->scikit-optimize) (6.0.2)\n",
            "Requirement already satisfied: threadpoolctl>=3.1.0 in /usr/local/lib/python3.10/dist-packages (from scikit-learn>=1.0.0->scikit-optimize) (3.5.0)\n",
            "Requirement already satisfied: shap in /usr/local/lib/python3.10/dist-packages (0.46.0)\n",
            "Requirement already satisfied: numpy in /usr/local/lib/python3.10/dist-packages (from shap) (1.26.4)\n",
            "Requirement already satisfied: scipy in /usr/local/lib/python3.10/dist-packages (from shap) (1.13.1)\n",
            "Requirement already satisfied: scikit-learn in /usr/local/lib/python3.10/dist-packages (from shap) (1.5.2)\n",
            "Requirement already satisfied: pandas in /usr/local/lib/python3.10/dist-packages (from shap) (2.2.2)\n",
            "Requirement already satisfied: tqdm>=4.27.0 in /usr/local/lib/python3.10/dist-packages (from shap) (4.66.6)\n",
            "Requirement already satisfied: packaging>20.9 in /usr/local/lib/python3.10/dist-packages (from shap) (24.2)\n",
            "Requirement already satisfied: slicer==0.0.8 in /usr/local/lib/python3.10/dist-packages (from shap) (0.0.8)\n",
            "Requirement already satisfied: numba in /usr/local/lib/python3.10/dist-packages (from shap) (0.60.0)\n",
            "Requirement already satisfied: cloudpickle in /usr/local/lib/python3.10/dist-packages (from shap) (3.1.0)\n",
            "Requirement already satisfied: llvmlite<0.44,>=0.43.0dev0 in /usr/local/lib/python3.10/dist-packages (from numba->shap) (0.43.0)\n",
            "Requirement already satisfied: python-dateutil>=2.8.2 in /usr/local/lib/python3.10/dist-packages (from pandas->shap) (2.9.0.post0)\n",
            "Requirement already satisfied: pytz>=2020.1 in /usr/local/lib/python3.10/dist-packages (from pandas->shap) (2024.2)\n",
            "Requirement already satisfied: tzdata>=2022.7 in /usr/local/lib/python3.10/dist-packages (from pandas->shap) (2024.2)\n",
            "Requirement already satisfied: joblib>=1.2.0 in /usr/local/lib/python3.10/dist-packages (from scikit-learn->shap) (1.4.2)\n",
            "Requirement already satisfied: threadpoolctl>=3.1.0 in /usr/local/lib/python3.10/dist-packages (from scikit-learn->shap) (3.5.0)\n",
            "Requirement already satisfied: six>=1.5 in /usr/local/lib/python3.10/dist-packages (from python-dateutil>=2.8.2->pandas->shap) (1.16.0)\n"
          ]
        }
      ]
    },
    {
      "cell_type": "code",
      "source": [
        "train_set = pd.read_csv('/content/Loan-Approval-Prediction/data/train.csv') # Load train set\n",
        "test_set = pd.read_csv('/content/Loan-Approval-Prediction/data/test.csv') #Load test set"
      ],
      "metadata": {
        "id": "BhQXYq0BU5CW"
      },
      "execution_count": 307,
      "outputs": []
    },
    {
      "cell_type": "code",
      "source": [
        "print(train_set.isna().sum()) #inspect train set for possible missing values\n",
        "print(test_set.isna().sum()) #inspect test set for possible missing values"
      ],
      "metadata": {
        "colab": {
          "base_uri": "https://localhost:8080/"
        },
        "id": "EHnLYd_mVgkH",
        "outputId": "9e365529-5659-4958-bf1f-6936b1429c69"
      },
      "execution_count": 308,
      "outputs": [
        {
          "output_type": "stream",
          "name": "stdout",
          "text": [
            "id                            0\n",
            "person_age                    0\n",
            "person_income                 0\n",
            "person_home_ownership         0\n",
            "person_emp_length             0\n",
            "loan_intent                   0\n",
            "loan_grade                    0\n",
            "loan_amnt                     0\n",
            "loan_int_rate                 0\n",
            "loan_percent_income           0\n",
            "cb_person_default_on_file     0\n",
            "cb_person_cred_hist_length    0\n",
            "loan_status                   0\n",
            "dtype: int64\n",
            "id                            0\n",
            "person_age                    0\n",
            "person_income                 0\n",
            "person_home_ownership         0\n",
            "person_emp_length             0\n",
            "loan_intent                   0\n",
            "loan_grade                    0\n",
            "loan_amnt                     0\n",
            "loan_int_rate                 0\n",
            "loan_percent_income           0\n",
            "cb_person_default_on_file     0\n",
            "cb_person_cred_hist_length    0\n",
            "dtype: int64\n"
          ]
        }
      ]
    },
    {
      "cell_type": "code",
      "source": [
        "print(train_set.dtypes) #inspect data types"
      ],
      "metadata": {
        "colab": {
          "base_uri": "https://localhost:8080/"
        },
        "id": "CpoBeO1XWHuB",
        "outputId": "2a4a05a2-33af-4af2-9a55-0771dfc4a9d3"
      },
      "execution_count": 309,
      "outputs": [
        {
          "output_type": "stream",
          "name": "stdout",
          "text": [
            "id                              int64\n",
            "person_age                      int64\n",
            "person_income                   int64\n",
            "person_home_ownership          object\n",
            "person_emp_length             float64\n",
            "loan_intent                    object\n",
            "loan_grade                     object\n",
            "loan_amnt                       int64\n",
            "loan_int_rate                 float64\n",
            "loan_percent_income           float64\n",
            "cb_person_default_on_file      object\n",
            "cb_person_cred_hist_length      int64\n",
            "loan_status                     int64\n",
            "dtype: object\n"
          ]
        }
      ]
    },
    {
      "cell_type": "code",
      "source": [
        "print('The size of the train set is:', train_set.shape)\n",
        "print('The size of the test set is:', test_set.shape) # the target variable is missing from the set"
      ],
      "metadata": {
        "colab": {
          "base_uri": "https://localhost:8080/"
        },
        "id": "HZgme57wWMTN",
        "outputId": "612f0a9e-889f-494b-8043-8adaa087a7b4"
      },
      "execution_count": 310,
      "outputs": [
        {
          "output_type": "stream",
          "name": "stdout",
          "text": [
            "The size of the train set is: (58645, 13)\n",
            "The size of the test set is: (39098, 12)\n"
          ]
        }
      ]
    },
    {
      "cell_type": "markdown",
      "source": [
        "**Inspect which features are object type and what are the differnet values inside them**"
      ],
      "metadata": {
        "id": "imdRxQkm-EvX"
      }
    },
    {
      "cell_type": "code",
      "source": [
        "print(train_set.info())\n",
        "print(train_set['person_home_ownership'].value_counts())\n",
        "print(train_set['loan_intent'].value_counts())\n",
        "print(train_set['loan_grade'].value_counts())\n",
        "print(train_set['cb_person_default_on_file'].value_counts())\n",
        "print(train_set['loan_status'].value_counts())"
      ],
      "metadata": {
        "colab": {
          "base_uri": "https://localhost:8080/"
        },
        "id": "ItoF4LB_YacC",
        "outputId": "a5da15a0-645f-4578-e430-b9c5b78925b9"
      },
      "execution_count": 311,
      "outputs": [
        {
          "output_type": "stream",
          "name": "stdout",
          "text": [
            "<class 'pandas.core.frame.DataFrame'>\n",
            "RangeIndex: 58645 entries, 0 to 58644\n",
            "Data columns (total 13 columns):\n",
            " #   Column                      Non-Null Count  Dtype  \n",
            "---  ------                      --------------  -----  \n",
            " 0   id                          58645 non-null  int64  \n",
            " 1   person_age                  58645 non-null  int64  \n",
            " 2   person_income               58645 non-null  int64  \n",
            " 3   person_home_ownership       58645 non-null  object \n",
            " 4   person_emp_length           58645 non-null  float64\n",
            " 5   loan_intent                 58645 non-null  object \n",
            " 6   loan_grade                  58645 non-null  object \n",
            " 7   loan_amnt                   58645 non-null  int64  \n",
            " 8   loan_int_rate               58645 non-null  float64\n",
            " 9   loan_percent_income         58645 non-null  float64\n",
            " 10  cb_person_default_on_file   58645 non-null  object \n",
            " 11  cb_person_cred_hist_length  58645 non-null  int64  \n",
            " 12  loan_status                 58645 non-null  int64  \n",
            "dtypes: float64(3), int64(6), object(4)\n",
            "memory usage: 5.8+ MB\n",
            "None\n",
            "person_home_ownership\n",
            "RENT        30594\n",
            "MORTGAGE    24824\n",
            "OWN          3138\n",
            "OTHER          89\n",
            "Name: count, dtype: int64\n",
            "loan_intent\n",
            "EDUCATION            12271\n",
            "MEDICAL              10934\n",
            "PERSONAL             10016\n",
            "VENTURE              10011\n",
            "DEBTCONSOLIDATION     9133\n",
            "HOMEIMPROVEMENT       6280\n",
            "Name: count, dtype: int64\n",
            "loan_grade\n",
            "A    20984\n",
            "B    20400\n",
            "C    11036\n",
            "D     5034\n",
            "E     1009\n",
            "F      149\n",
            "G       33\n",
            "Name: count, dtype: int64\n",
            "cb_person_default_on_file\n",
            "N    49943\n",
            "Y     8702\n",
            "Name: count, dtype: int64\n",
            "loan_status\n",
            "0    50295\n",
            "1     8350\n",
            "Name: count, dtype: int64\n"
          ]
        }
      ]
    },
    {
      "cell_type": "markdown",
      "source": [
        "**Feature Engineering**"
      ],
      "metadata": {
        "id": "jeEc6xyl-Q5Q"
      }
    },
    {
      "cell_type": "code",
      "source": [
        "# Ensure to map and assign the results back to the columns\n",
        "train_set['cb_person_default_on_file'] = train_set['cb_person_default_on_file'].map({'Y': 1, 'N': 0}).astype(np.float32)\n",
        "\n",
        "# Keep a copy of the original loan_grade column before encoding\n",
        "train_set['loan_grade_0'] = train_set['loan_grade']\n",
        "\n",
        "train_set['loan_grade'] = train_set['loan_grade'].map({'A': 0.1, 'B': 0.2, 'C': 0.4, 'D': 0.5, 'E': 0.6, 'F': 0.8, 'G': 1}).astype(np.float32)\n",
        "\n",
        "# Dummy encoding for categorical columns\n",
        "train_set = pd.get_dummies(train_set, columns=['loan_grade_0', 'person_home_ownership', 'loan_intent'])\n",
        "\n",
        "# Drop the 'id' column as it's not needed\n",
        "train_set.drop(['id'], axis=1, inplace=True)\n",
        "\n",
        "# Verify data types after transformations\n",
        "print(train_set['loan_grade'].head())\n",
        "print(train_set['cb_person_default_on_file'].head())\n",
        "print(train_set.info())  # To check if all object columns have been transformed\n",
        "\n",
        "# Now apply the same steps to the test set\n",
        "test_id = test_set['id']  # Store test IDs for final submission\n",
        "\n",
        "test_set['cb_person_default_on_file'] = test_set['cb_person_default_on_file'].map({'Y': 1, 'N': 0}).astype(np.float32)\n",
        "\n",
        "test_set['loan_grade_0'] = test_set['loan_grade']\n",
        "\n",
        "test_set['loan_grade'] = test_set['loan_grade'].map({'A': 0.1, 'B': 0.2, 'C': 0.4, 'D': 0.5, 'E': 0.6, 'F': 0.8, 'G': 1}).astype(np.float32)\n",
        "\n",
        "test_set = pd.get_dummies(test_set, columns=['loan_grade_0', 'person_home_ownership', 'loan_intent'])\n",
        "test_set.drop(['id'], axis=1, inplace=True)\n",
        "\n",
        "# Verify data types after transformations for the test set\n",
        "print(test_set.info())\n"
      ],
      "metadata": {
        "id": "I3Kgkwymc1Dp",
        "colab": {
          "base_uri": "https://localhost:8080/"
        },
        "outputId": "d56f199c-a9b1-4b42-fdff-eea3a4dc60ac"
      },
      "execution_count": 312,
      "outputs": [
        {
          "output_type": "stream",
          "name": "stdout",
          "text": [
            "0    0.2\n",
            "1    0.4\n",
            "2    0.1\n",
            "3    0.2\n",
            "4    0.1\n",
            "Name: loan_grade, dtype: float32\n",
            "0    0.0\n",
            "1    0.0\n",
            "2    0.0\n",
            "3    0.0\n",
            "4    0.0\n",
            "Name: cb_person_default_on_file, dtype: float32\n",
            "<class 'pandas.core.frame.DataFrame'>\n",
            "RangeIndex: 58645 entries, 0 to 58644\n",
            "Data columns (total 27 columns):\n",
            " #   Column                          Non-Null Count  Dtype  \n",
            "---  ------                          --------------  -----  \n",
            " 0   person_age                      58645 non-null  int64  \n",
            " 1   person_income                   58645 non-null  int64  \n",
            " 2   person_emp_length               58645 non-null  float64\n",
            " 3   loan_grade                      58645 non-null  float32\n",
            " 4   loan_amnt                       58645 non-null  int64  \n",
            " 5   loan_int_rate                   58645 non-null  float64\n",
            " 6   loan_percent_income             58645 non-null  float64\n",
            " 7   cb_person_default_on_file       58645 non-null  float32\n",
            " 8   cb_person_cred_hist_length      58645 non-null  int64  \n",
            " 9   loan_status                     58645 non-null  int64  \n",
            " 10  loan_grade_0_A                  58645 non-null  bool   \n",
            " 11  loan_grade_0_B                  58645 non-null  bool   \n",
            " 12  loan_grade_0_C                  58645 non-null  bool   \n",
            " 13  loan_grade_0_D                  58645 non-null  bool   \n",
            " 14  loan_grade_0_E                  58645 non-null  bool   \n",
            " 15  loan_grade_0_F                  58645 non-null  bool   \n",
            " 16  loan_grade_0_G                  58645 non-null  bool   \n",
            " 17  person_home_ownership_MORTGAGE  58645 non-null  bool   \n",
            " 18  person_home_ownership_OTHER     58645 non-null  bool   \n",
            " 19  person_home_ownership_OWN       58645 non-null  bool   \n",
            " 20  person_home_ownership_RENT      58645 non-null  bool   \n",
            " 21  loan_intent_DEBTCONSOLIDATION   58645 non-null  bool   \n",
            " 22  loan_intent_EDUCATION           58645 non-null  bool   \n",
            " 23  loan_intent_HOMEIMPROVEMENT     58645 non-null  bool   \n",
            " 24  loan_intent_MEDICAL             58645 non-null  bool   \n",
            " 25  loan_intent_PERSONAL            58645 non-null  bool   \n",
            " 26  loan_intent_VENTURE             58645 non-null  bool   \n",
            "dtypes: bool(17), float32(2), float64(3), int64(5)\n",
            "memory usage: 5.0 MB\n",
            "None\n",
            "<class 'pandas.core.frame.DataFrame'>\n",
            "RangeIndex: 39098 entries, 0 to 39097\n",
            "Data columns (total 26 columns):\n",
            " #   Column                          Non-Null Count  Dtype  \n",
            "---  ------                          --------------  -----  \n",
            " 0   person_age                      39098 non-null  int64  \n",
            " 1   person_income                   39098 non-null  int64  \n",
            " 2   person_emp_length               39098 non-null  float64\n",
            " 3   loan_grade                      39098 non-null  float32\n",
            " 4   loan_amnt                       39098 non-null  int64  \n",
            " 5   loan_int_rate                   39098 non-null  float64\n",
            " 6   loan_percent_income             39098 non-null  float64\n",
            " 7   cb_person_default_on_file       39098 non-null  float32\n",
            " 8   cb_person_cred_hist_length      39098 non-null  int64  \n",
            " 9   loan_grade_0_A                  39098 non-null  bool   \n",
            " 10  loan_grade_0_B                  39098 non-null  bool   \n",
            " 11  loan_grade_0_C                  39098 non-null  bool   \n",
            " 12  loan_grade_0_D                  39098 non-null  bool   \n",
            " 13  loan_grade_0_E                  39098 non-null  bool   \n",
            " 14  loan_grade_0_F                  39098 non-null  bool   \n",
            " 15  loan_grade_0_G                  39098 non-null  bool   \n",
            " 16  person_home_ownership_MORTGAGE  39098 non-null  bool   \n",
            " 17  person_home_ownership_OTHER     39098 non-null  bool   \n",
            " 18  person_home_ownership_OWN       39098 non-null  bool   \n",
            " 19  person_home_ownership_RENT      39098 non-null  bool   \n",
            " 20  loan_intent_DEBTCONSOLIDATION   39098 non-null  bool   \n",
            " 21  loan_intent_EDUCATION           39098 non-null  bool   \n",
            " 22  loan_intent_HOMEIMPROVEMENT     39098 non-null  bool   \n",
            " 23  loan_intent_MEDICAL             39098 non-null  bool   \n",
            " 24  loan_intent_PERSONAL            39098 non-null  bool   \n",
            " 25  loan_intent_VENTURE             39098 non-null  bool   \n",
            "dtypes: bool(17), float32(2), float64(3), int64(4)\n",
            "memory usage: 3.0 MB\n",
            "None\n"
          ]
        }
      ]
    },
    {
      "cell_type": "markdown",
      "source": [
        "**Feature Engineering: Part2-create new features that might help increasing the accuracy**"
      ],
      "metadata": {
        "id": "ItiQC9Q4_Dye"
      }
    },
    {
      "cell_type": "code",
      "source": [
        "from sklearn.model_selection import train_test_split\n",
        "from imblearn.over_sampling import SMOTE\n",
        "import pandas as pd\n",
        "\n",
        "# Separate features and target\n",
        "y = train_set['loan_status']\n",
        "X = train_set.drop(['loan_status'], axis=1)\n",
        "\n",
        "# Initial split for training and validation\n",
        "X_train, X_val, y_train, y_val = train_test_split(X, y, test_size=0.1, stratify=y, random_state=42)\n",
        "\n",
        "# Initialize SMOTE to oversample the minority class\n",
        "smote = SMOTE(sampling_strategy=0.25, random_state=42)\n",
        "\n",
        "# Oversample the training set\n",
        "X_train, y_train = smote.fit_resample(X_train, y_train)\n",
        "\n",
        "# Convert back to DataFrame to maintain column names\n",
        "X_train = pd.DataFrame(X_train, columns=X.columns)\n",
        "X_val = pd.DataFrame(X_val, columns=X.columns)\n",
        "\n",
        "# Shuffle the training and validation sets after resampling\n",
        "X_train, y_train = X_train.sample(frac=1, random_state=42).reset_index(drop=True), y_train.sample(frac=1, random_state=42).reset_index(drop=True)\n",
        "X_val, y_val = X_val.sample(frac=1, random_state=42).reset_index(drop=True), y_val.sample(frac=1, random_state=42).reset_index(drop=True)\n",
        "\n",
        "X_test = test_set.copy()\n",
        "\n",
        "# Print the count of True and False in both train and validation sets\n",
        "print(\"Training set class distribution:\\n\", y_train.value_counts())\n",
        "print(\"Validation set class distribution:\\n\", y_val.value_counts())\n"
      ],
      "metadata": {
        "id": "9heULvwrIMuj",
        "colab": {
          "base_uri": "https://localhost:8080/"
        },
        "outputId": "41f891d9-65df-4cc6-db0d-8144e4f28016"
      },
      "execution_count": 313,
      "outputs": [
        {
          "output_type": "stream",
          "name": "stdout",
          "text": [
            "Training set class distribution:\n",
            " loan_status\n",
            "0    45265\n",
            "1    11316\n",
            "Name: count, dtype: int64\n",
            "Validation set class distribution:\n",
            " loan_status\n",
            "0    5030\n",
            "1     835\n",
            "Name: count, dtype: int64\n"
          ]
        }
      ]
    },
    {
      "cell_type": "markdown",
      "source": [
        " **Predicting Using XGB**"
      ],
      "metadata": {
        "id": "aloTLDjYdCjb"
      }
    },
    {
      "cell_type": "code",
      "source": [
        "# Define the model with the provided parameters\n",
        "xgb_model1 = xgb.XGBClassifier(\n",
        "    colsample_bytree=0.607686819159888,\n",
        "    gamma=0.0,\n",
        "    learning_rate=0.1386554508211204,\n",
        "    max_depth=5,\n",
        "    n_estimators=444,\n",
        "    reg_alpha=0.0,\n",
        "    reg_lambda=10.0,\n",
        "    subsample=1.0,\n",
        "    eval_metric='auc'\n",
        ")\n",
        "\n",
        "xgb_model1.fit(X_train, y_train)\n",
        "\n",
        "y_pred_prob_XGB1_train = xgb_model1.predict_proba(X_train)[:, 1]\n",
        "print(roc_auc_score(y_train, y_pred_prob_XGB1_train))\n",
        "\n",
        "y_pred_prob_XGB1_val = xgb_model1.predict_proba(X_val)[:, 1]\n",
        "print(roc_auc_score(y_val, y_pred_prob_XGB1_val))\n",
        "\n",
        "y_pred_prob_XGB1_test = xgb_model1.predict_proba(X_test)[:, 1]"
      ],
      "metadata": {
        "id": "FxA2U3R8f5Zb",
        "outputId": "8f87653f-19cf-4b2f-a617-2a981478f937",
        "colab": {
          "base_uri": "https://localhost:8080/"
        }
      },
      "execution_count": 314,
      "outputs": [
        {
          "output_type": "stream",
          "name": "stdout",
          "text": [
            "0.9863323909234558\n",
            "0.9592792942941155\n"
          ]
        }
      ]
    },
    {
      "cell_type": "code",
      "source": [
        "# Define the model with the provided parameters\n",
        "xgb_model2 = xgb.XGBClassifier(\n",
        "    colsample_bytree=0.5349230389326496,\n",
        "    gamma=0.0,\n",
        "    learning_rate=0.12008507715256864,\n",
        "    max_depth=5,\n",
        "    n_estimators=382,\n",
        "    reg_alpha=0.0,\n",
        "    reg_lambda=4.1310919699589626,\n",
        "    subsample=1.0,\n",
        "    eval_metric='auc'\n",
        ")\n",
        "\n",
        "xgb_model2.fit(X_train, y_train)\n",
        "\n",
        "y_pred_prob_XGB2_train = xgb_model2.predict_proba(X_train)[:, 1]\n",
        "print(roc_auc_score(y_train, y_pred_prob_XGB2_train))\n",
        "\n",
        "y_pred_prob_XGB2_val = xgb_model2.predict_proba(X_val)[:, 1]\n",
        "print(roc_auc_score(y_val, y_pred_prob_XGB2_val))\n",
        "\n",
        "y_pred_prob_XGB2_test = xgb_model2.predict_proba(X_test)[:, 1]"
      ],
      "metadata": {
        "colab": {
          "base_uri": "https://localhost:8080/"
        },
        "id": "f4y3UNY7BPDh",
        "outputId": "94ee59c3-ca34-4240-ef24-129a342f8607"
      },
      "execution_count": 315,
      "outputs": [
        {
          "output_type": "stream",
          "name": "stdout",
          "text": [
            "0.9853568418836062\n",
            "0.9595164343281629\n"
          ]
        }
      ]
    },
    {
      "cell_type": "code",
      "source": [
        "# Define the model with the provided parameters\n",
        "xgb_model3 = xgb.XGBClassifier(\n",
        "    colsample_bytree=0.5,\n",
        "    gamma=0.0,\n",
        "    learning_rate=0.2590922138514278,\n",
        "    max_depth=3,\n",
        "    n_estimators=432,\n",
        "    reg_alpha=0.0,\n",
        "    reg_lambda=6.510926588807951,\n",
        "    subsample=1.0,\n",
        "    eval_metric='auc'\n",
        ")\n",
        "\n",
        "xgb_model3.fit(X_train, y_train)\n",
        "\n",
        "y_pred_prob_XGB3_train = xgb_model3.predict_proba(X_train)[:, 1]\n",
        "print(roc_auc_score(y_train, y_pred_prob_XGB3_train))\n",
        "\n",
        "y_pred_prob_XGB3_val = xgb_model3.predict_proba(X_val)[:, 1]\n",
        "print(roc_auc_score(y_val, y_pred_prob_XGB3_val))\n",
        "\n",
        "y_pred_prob_XGB3_test = xgb_model3.predict_proba(X_test)[:, 1]"
      ],
      "metadata": {
        "colab": {
          "base_uri": "https://localhost:8080/"
        },
        "id": "J16C28NRB2f1",
        "outputId": "5deec0bc-99a9-41de-ec48-623d4b0c9b70"
      },
      "execution_count": 316,
      "outputs": [
        {
          "output_type": "stream",
          "name": "stdout",
          "text": [
            "0.9802396130606232\n",
            "0.959690956060047\n"
          ]
        }
      ]
    },
    {
      "cell_type": "code",
      "source": [
        "from sklearn.metrics import roc_auc_score\n",
        "\n",
        "# Define the model with the 4th model's parameters\n",
        "xgb_model4 = xgb.XGBClassifier(\n",
        "    colsample_bytree=0.5,\n",
        "    gamma=0.0,\n",
        "    learning_rate=0.14243206021024543,\n",
        "    max_depth=5,\n",
        "    n_estimators=398,\n",
        "    reg_alpha=0.0,\n",
        "    reg_lambda=10.0,\n",
        "    subsample=0.7923461422010261,\n",
        "    eval_metric='auc'\n",
        ")\n",
        "\n",
        "# Train the model on the training data\n",
        "xgb_model4.fit(X_train, y_train)\n",
        "\n",
        "# Predict probabilities on training set and calculate AUC\n",
        "y_pred_prob_XGB4_train = xgb_model4.predict_proba(X_train)[:, 1]\n",
        "print(\"Training AUC:\", roc_auc_score(y_train, y_pred_prob_XGB4_train))\n",
        "\n",
        "# Predict probabilities on validation set and calculate AUC\n",
        "y_pred_prob_XGB4_val = xgb_model4.predict_proba(X_val)[:, 1]\n",
        "print(\"Validation AUC:\", roc_auc_score(y_val, y_pred_prob_XGB4_val))\n",
        "\n",
        "# Predict probabilities on test set\n",
        "y_pred_prob_XGB4_test = xgb_model4.predict_proba(X_test)[:, 1]\n"
      ],
      "metadata": {
        "colab": {
          "base_uri": "https://localhost:8080/"
        },
        "id": "0A6zdfMCDD-3",
        "outputId": "aa3917fd-6464-4c10-d706-82438fa1a26e"
      },
      "execution_count": 317,
      "outputs": [
        {
          "output_type": "stream",
          "name": "stdout",
          "text": [
            "Training AUC: 0.9859583768840633\n",
            "Validation AUC: 0.9586043023297343\n"
          ]
        }
      ]
    },
    {
      "cell_type": "code",
      "source": [
        "from sklearn.metrics import roc_auc_score\n",
        "\n",
        "# Define the model with the 5th model's parameters\n",
        "xgb_model5 = xgb.XGBClassifier(\n",
        "    colsample_bytree=0.5,\n",
        "    gamma=0.0,\n",
        "    learning_rate=0.15072085781971037,\n",
        "    max_depth=4,\n",
        "    n_estimators=440,\n",
        "    reg_alpha=0.0,\n",
        "    reg_lambda=10.0,\n",
        "    subsample=0.9001669533542271,\n",
        "    eval_metric='auc'\n",
        ")\n",
        "\n",
        "# Train the model on the training data\n",
        "xgb_model5.fit(X_train, y_train)\n",
        "\n",
        "# Predict probabilities on the training set and calculate AUC\n",
        "y_pred_prob_XGB5_train = xgb_model5.predict_proba(X_train)[:, 1]\n",
        "print(\"Training AUC:\", roc_auc_score(y_train, y_pred_prob_XGB5_train))\n",
        "\n",
        "# Predict probabilities on the validation set and calculate AUC\n",
        "y_pred_prob_XGB5_val = xgb_model5.predict_proba(X_val)[:, 1]\n",
        "print(\"Validation AUC:\", roc_auc_score(y_val, y_pred_prob_XGB5_val))\n",
        "\n",
        "# Predict probabilities on the test set\n",
        "y_pred_prob_XGB5_test = xgb_model5.predict_proba(X_test)[:, 1]\n"
      ],
      "metadata": {
        "colab": {
          "base_uri": "https://localhost:8080/"
        },
        "id": "v0jRoJXADLNL",
        "outputId": "055a02bf-8ed8-43e8-810f-c2a085a792ba"
      },
      "execution_count": 318,
      "outputs": [
        {
          "output_type": "stream",
          "name": "stdout",
          "text": [
            "Training AUC: 0.9821247715380348\n",
            "Validation AUC: 0.958890965583743\n"
          ]
        }
      ]
    },
    {
      "cell_type": "code",
      "source": [
        "from sklearn.metrics import roc_auc_score\n",
        "\n",
        "# Define the model with the 6th model's parameters\n",
        "xgb_model6 = xgb.XGBClassifier(\n",
        "    colsample_bytree=0.5,\n",
        "    gamma=0.0,\n",
        "    learning_rate=0.1229119989783978,\n",
        "    max_depth=5,\n",
        "    n_estimators=364,\n",
        "    reg_alpha=0.0,\n",
        "    reg_lambda=10.0,\n",
        "    subsample=1.0,\n",
        "    eval_metric='auc'\n",
        ")\n",
        "\n",
        "# Train the model on the training data\n",
        "xgb_model6.fit(X_train, y_train)\n",
        "\n",
        "# Predict probabilities on the training set and calculate AUC\n",
        "y_pred_prob_XGB6_train = xgb_model6.predict_proba(X_train)[:, 1]\n",
        "print(\"Training AUC:\", roc_auc_score(y_train, y_pred_prob_XGB6_train))\n",
        "\n",
        "# Predict probabilities on the validation set and calculate AUC\n",
        "y_pred_prob_XGB6_val = xgb_model6.predict_proba(X_val)[:, 1]\n",
        "print(\"Validation AUC:\", roc_auc_score(y_val, y_pred_prob_XGB6_val))\n",
        "\n",
        "# Predict probabilities on the test set\n",
        "y_pred_prob_XGB6_test = xgb_model6.predict_proba(X_test)[:, 1]\n"
      ],
      "metadata": {
        "colab": {
          "base_uri": "https://localhost:8080/"
        },
        "id": "-xU0eWX9DSrX",
        "outputId": "7087ec1e-e70d-4684-bece-0a0a55809307"
      },
      "execution_count": 319,
      "outputs": [
        {
          "output_type": "stream",
          "name": "stdout",
          "text": [
            "Training AUC: 0.9829932159452033\n",
            "Validation AUC: 0.9597547648242284\n"
          ]
        }
      ]
    },
    {
      "cell_type": "code",
      "source": [
        "from sklearn.metrics import roc_auc_score\n",
        "\n",
        "# Define the model with the 7th model's parameters\n",
        "xgb_model7 = xgb.XGBClassifier(\n",
        "    colsample_bytree=1.0,\n",
        "    gamma=0.0,\n",
        "    learning_rate=0.1280840580147865,\n",
        "    max_depth=4,\n",
        "    n_estimators=392,\n",
        "    reg_alpha=0.0,\n",
        "    reg_lambda=5.661309772706808,\n",
        "    subsample=0.8817289754308963,\n",
        "    eval_metric='auc'\n",
        ")\n",
        "\n",
        "# Train the model on the training data\n",
        "xgb_model7.fit(X_train, y_train)\n",
        "\n",
        "# Predict probabilities on the training set and calculate AUC\n",
        "y_pred_prob_XGB7_train = xgb_model7.predict_proba(X_train)[:, 1]\n",
        "print(\"Training AUC:\", roc_auc_score(y_train, y_pred_prob_XGB7_train))\n",
        "\n",
        "# Predict probabilities on the validation set and calculate AUC\n",
        "y_pred_prob_XGB7_val = xgb_model7.predict_proba(X_val)[:, 1]\n",
        "print(\"Validation AUC:\", roc_auc_score(y_val, y_pred_prob_XGB7_val))\n",
        "\n",
        "# Predict probabilities on the test set\n",
        "y_pred_prob_XGB7_test = xgb_model7.predict_proba(X_test)[:, 1]\n"
      ],
      "metadata": {
        "colab": {
          "base_uri": "https://localhost:8080/"
        },
        "id": "IdPKi9wyDbHA",
        "outputId": "30c0b7be-06cd-40b8-f2c3-a4a4cad8703d"
      },
      "execution_count": 320,
      "outputs": [
        {
          "output_type": "stream",
          "name": "stdout",
          "text": [
            "Training AUC: 0.9825542384489875\n",
            "Validation AUC: 0.9588381090701301\n"
          ]
        }
      ]
    },
    {
      "cell_type": "code",
      "source": [
        "from sklearn.metrics import roc_auc_score\n",
        "\n",
        "# Define the model with the 8th model's parameters\n",
        "xgb_model8 = xgb.XGBClassifier(\n",
        "    colsample_bytree=1.0,\n",
        "    gamma=0.0,\n",
        "    learning_rate=0.17242897272288477,\n",
        "    max_depth=4,\n",
        "    n_estimators=500,\n",
        "    reg_alpha=0.0,\n",
        "    reg_lambda=10.0,\n",
        "    subsample=1.0,\n",
        "    eval_metric='auc'\n",
        ")\n",
        "\n",
        "# Train the model on the training data\n",
        "xgb_model8.fit(X_train, y_train)\n",
        "\n",
        "# Predict probabilities on the training set and calculate AUC\n",
        "y_pred_prob_XGB8_train = xgb_model8.predict_proba(X_train)[:, 1]\n",
        "print(\"Training AUC:\", roc_auc_score(y_train, y_pred_prob_XGB8_train))\n",
        "\n",
        "# Predict probabilities on the validation set and calculate AUC\n",
        "y_pred_prob_XGB8_val = xgb_model8.predict_proba(X_val)[:, 1]\n",
        "print(\"Validation AUC:\", roc_auc_score(y_val, y_pred_prob_XGB8_val))\n",
        "\n",
        "# Predict probabilities on the test set\n",
        "y_pred_prob_XGB8_test = xgb_model8.predict_proba(X_test)[:, 1]\n"
      ],
      "metadata": {
        "colab": {
          "base_uri": "https://localhost:8080/"
        },
        "id": "z7A9GPNkDi0Q",
        "outputId": "cc04ec0e-ef48-4ea5-9506-4b42a0801b24"
      },
      "execution_count": 321,
      "outputs": [
        {
          "output_type": "stream",
          "name": "stdout",
          "text": [
            "Training AUC: 0.9850852147658636\n",
            "Validation AUC: 0.959015011726051\n"
          ]
        }
      ]
    },
    {
      "cell_type": "code",
      "source": [
        "from sklearn.metrics import roc_auc_score\n",
        "\n",
        "# Define the model with the 9th model's parameters\n",
        "xgb_model9 = xgb.XGBClassifier(\n",
        "    colsample_bytree=0.8466482373859222,\n",
        "    gamma=0.444689170727064,\n",
        "    learning_rate=0.25750013975195113,\n",
        "    max_depth=3,\n",
        "    n_estimators=480,\n",
        "    reg_alpha=0.3133214121333228,\n",
        "    reg_lambda=9.738406839866839,\n",
        "    subsample=0.9701237328878916,\n",
        "    eval_metric='auc'\n",
        ")\n",
        "\n",
        "# Train the model on the training data\n",
        "xgb_model9.fit(X_train, y_train)\n",
        "\n",
        "# Predict probabilities on the training set and calculate AUC\n",
        "y_pred_prob_XGB9_train = xgb_model9.predict_proba(X_train)[:, 1]\n",
        "print(\"Training AUC:\", roc_auc_score(y_train, y_pred_prob_XGB9_train))\n",
        "\n",
        "# Predict probabilities on the validation set and calculate AUC\n",
        "y_pred_prob_XGB9_val = xgb_model9.predict_proba(X_val)[:, 1]\n",
        "print(\"Validation AUC:\", roc_auc_score(y_val, y_pred_prob_XGB9_val))\n",
        "\n",
        "# Predict probabilities on the test set\n",
        "y_pred_prob_XGB9_test = xgb_model9.predict_proba(X_test)[:, 1]\n"
      ],
      "metadata": {
        "colab": {
          "base_uri": "https://localhost:8080/"
        },
        "id": "1WRj9ITnDrym",
        "outputId": "7495fb06-4088-48f0-d291-e19f984e4b25"
      },
      "execution_count": 322,
      "outputs": [
        {
          "output_type": "stream",
          "name": "stdout",
          "text": [
            "Training AUC: 0.9810140097568473\n",
            "Validation AUC: 0.9593259604052332\n"
          ]
        }
      ]
    },
    {
      "cell_type": "code",
      "source": [
        "from sklearn.metrics import roc_auc_score\n",
        "\n",
        "# Define the model with the 10th model's parameters\n",
        "xgb_model10 = xgb.XGBClassifier(\n",
        "    colsample_bytree=0.5,\n",
        "    gamma=0.0,\n",
        "    learning_rate=0.1353854406983619,\n",
        "    max_depth=4,\n",
        "    n_estimators=477,\n",
        "    reg_alpha=0.017833537744749474,\n",
        "    reg_lambda=0.0,\n",
        "    subsample=1.0,\n",
        "    eval_metric='auc'\n",
        ")\n",
        "\n",
        "# Train the model on the training data\n",
        "xgb_model10.fit(X_train, y_train)\n",
        "\n",
        "# Predict probabilities on the training set and calculate AUC\n",
        "y_pred_prob_XGB10_train = xgb_model10.predict_proba(X_train)[:, 1]\n",
        "print(\"Training AUC:\", roc_auc_score(y_train, y_pred_prob_XGB10_train))\n",
        "\n",
        "# Predict probabilities on the validation set and calculate AUC\n",
        "y_pred_prob_XGB10_val = xgb_model10.predict_proba(X_val)[:, 1]\n",
        "print(\"Validation AUC:\", roc_auc_score(y_val, y_pred_prob_XGB10_val))\n",
        "\n",
        "# Predict probabilities on the test set\n",
        "y_pred_prob_XGB10_test = xgb_model10.predict_proba(X_test)[:, 1]\n"
      ],
      "metadata": {
        "colab": {
          "base_uri": "https://localhost:8080/"
        },
        "id": "tH8Q5hEGD0WN",
        "outputId": "68ac0876-b0b2-4264-a076-b68ef35e3e4f"
      },
      "execution_count": 323,
      "outputs": [
        {
          "output_type": "stream",
          "name": "stdout",
          "text": [
            "Training AUC: 0.9852708005177632\n",
            "Validation AUC: 0.9611235580528803\n"
          ]
        }
      ]
    },
    {
      "cell_type": "markdown",
      "source": [
        "**Adding the predictions as new features**"
      ],
      "metadata": {
        "id": "E0q-BEjHzMU-"
      }
    },
    {
      "cell_type": "code",
      "source": [
        "X_train['y_pred_prob_XGB1'] = y_pred_prob_XGB1_train\n",
        "X_val['y_pred_prob_XGB1'] = y_pred_prob_XGB1_val\n",
        "X_test['y_pred_prob_XGB1'] = y_pred_prob_XGB1_test\n",
        "\n",
        "X_train['y_pred_prob_XGB2'] = y_pred_prob_XGB2_train\n",
        "X_val['y_pred_prob_XGB2'] = y_pred_prob_XGB2_val\n",
        "X_test['y_pred_prob_XGB2'] = y_pred_prob_XGB2_test\n",
        "\n",
        "X_train['y_pred_prob_XGB3'] = y_pred_prob_XGB3_train\n",
        "X_val['y_pred_prob_XGB3'] = y_pred_prob_XGB3_val\n",
        "X_test['y_pred_prob_XGB3'] = y_pred_prob_XGB3_test\n",
        "\n",
        "X_train['y_pred_prob_XGB4'] = y_pred_prob_XGB4_train\n",
        "X_val['y_pred_prob_XGB4'] = y_pred_prob_XGB4_val\n",
        "X_test['y_pred_prob_XGB4'] = y_pred_prob_XGB4_test\n",
        "\n",
        "X_train['y_pred_prob_XGB5'] = y_pred_prob_XGB5_train\n",
        "X_val['y_pred_prob_XGB5'] = y_pred_prob_XGB5_val\n",
        "X_test['y_pred_prob_XGB5'] = y_pred_prob_XGB5_test\n",
        "\n",
        "X_train['y_pred_prob_XGB6'] = y_pred_prob_XGB6_train\n",
        "X_val['y_pred_prob_XGB6'] = y_pred_prob_XGB6_val\n",
        "X_test['y_pred_prob_XGB6'] = y_pred_prob_XGB6_test\n",
        "\n",
        "X_train['y_pred_prob_XGB7'] = y_pred_prob_XGB7_train\n",
        "X_val['y_pred_prob_XGB7'] = y_pred_prob_XGB7_val\n",
        "X_test['y_pred_prob_XGB7'] = y_pred_prob_XGB7_test\n",
        "\n",
        "X_train['y_pred_prob_XGB8'] = y_pred_prob_XGB8_train\n",
        "X_val['y_pred_prob_XGB8'] = y_pred_prob_XGB8_val\n",
        "X_test['y_pred_prob_XGB8'] = y_pred_prob_XGB8_test\n",
        "\n",
        "X_train['y_pred_prob_XGB9'] = y_pred_prob_XGB9_train\n",
        "X_val['y_pred_prob_XGB9'] = y_pred_prob_XGB9_val\n",
        "X_test['y_pred_prob_XGB9'] = y_pred_prob_XGB9_test\n",
        "\n",
        "X_train['y_pred_prob_XGB10'] = y_pred_prob_XGB10_train\n",
        "X_val['y_pred_prob_XGB10'] = y_pred_prob_XGB10_val\n",
        "X_test['y_pred_prob_XGB10'] = y_pred_prob_XGB10_test"
      ],
      "metadata": {
        "id": "LktNJ0yJa6sU"
      },
      "execution_count": 324,
      "outputs": []
    },
    {
      "cell_type": "code",
      "source": [
        "y_pred_prob_XGB_train = (y_pred_prob_XGB1_train + y_pred_prob_XGB2_train + y_pred_prob_XGB3_train +\n",
        "                         y_pred_prob_XGB4_train + y_pred_prob_XGB5_train + y_pred_prob_XGB6_train +\n",
        "                         y_pred_prob_XGB7_train + y_pred_prob_XGB8_train + y_pred_prob_XGB8_train +\n",
        "                         y_pred_prob_XGB9_train + y_pred_prob_XGB10_train) / 10\n",
        "\n",
        "print(\"Validation AUC:\", roc_auc_score(y_train, y_pred_prob_XGB_train))\n",
        "\n",
        "y_pred_prob_XGB_val = (y_pred_prob_XGB1_val + y_pred_prob_XGB2_val + y_pred_prob_XGB3_val +\n",
        "                       y_pred_prob_XGB4_val + y_pred_prob_XGB5_val + y_pred_prob_XGB6_val +\n",
        "                       y_pred_prob_XGB7_val + y_pred_prob_XGB8_val + y_pred_prob_XGB8_val +\n",
        "                       y_pred_prob_XGB9_val + y_pred_prob_XGB10_val) / 10\n",
        "\n",
        "print(\"Validation AUC:\", roc_auc_score(y_val, y_pred_prob_XGB_val))\n",
        "\n",
        "y_pred_prob_XGB_test = (y_pred_prob_XGB1_test + y_pred_prob_XGB2_test + y_pred_prob_XGB3_test +\n",
        "                       y_pred_prob_XGB4_test + y_pred_prob_XGB5_test + y_pred_prob_XGB6_test +\n",
        "                       y_pred_prob_XGB7_test + y_pred_prob_XGB8_test + y_pred_prob_XGB8_test +\n",
        "                       y_pred_prob_XGB9_test + y_pred_prob_XGB10_test) / 10"
      ],
      "metadata": {
        "colab": {
          "base_uri": "https://localhost:8080/"
        },
        "id": "U2SmissYEVzk",
        "outputId": "4115163b-acbf-4de8-f0ba-0164e947d870"
      },
      "execution_count": 325,
      "outputs": [
        {
          "output_type": "stream",
          "name": "stdout",
          "text": [
            "Validation AUC: 0.9846403462317681\n",
            "Validation AUC: 0.9600292853656504\n"
          ]
        }
      ]
    },
    {
      "cell_type": "code",
      "source": [
        "# Prepare the output DataFrame\n",
        "output = pd.DataFrame({'id': test_id.values, 'loan_status': y_pred_prob_XGB_test})\n",
        "\n",
        "# Remove any duplicate rows by 'PassengerId'\n",
        "output.drop_duplicates(subset='id', keep='first', inplace=True)\n",
        "\n",
        "# Save predictions to a CSV file\n",
        "output.to_csv('predictions.csv', index=False)\n",
        "files.download('predictions.csv')"
      ],
      "metadata": {
        "id": "L66a29N1jSKg",
        "outputId": "24a51651-e767-4601-8d8e-c35a78518405",
        "colab": {
          "base_uri": "https://localhost:8080/",
          "height": 17
        }
      },
      "execution_count": 326,
      "outputs": [
        {
          "output_type": "display_data",
          "data": {
            "text/plain": [
              "<IPython.core.display.Javascript object>"
            ],
            "application/javascript": [
              "\n",
              "    async function download(id, filename, size) {\n",
              "      if (!google.colab.kernel.accessAllowed) {\n",
              "        return;\n",
              "      }\n",
              "      const div = document.createElement('div');\n",
              "      const label = document.createElement('label');\n",
              "      label.textContent = `Downloading \"${filename}\": `;\n",
              "      div.appendChild(label);\n",
              "      const progress = document.createElement('progress');\n",
              "      progress.max = size;\n",
              "      div.appendChild(progress);\n",
              "      document.body.appendChild(div);\n",
              "\n",
              "      const buffers = [];\n",
              "      let downloaded = 0;\n",
              "\n",
              "      const channel = await google.colab.kernel.comms.open(id);\n",
              "      // Send a message to notify the kernel that we're ready.\n",
              "      channel.send({})\n",
              "\n",
              "      for await (const message of channel.messages) {\n",
              "        // Send a message to notify the kernel that we're ready.\n",
              "        channel.send({})\n",
              "        if (message.buffers) {\n",
              "          for (const buffer of message.buffers) {\n",
              "            buffers.push(buffer);\n",
              "            downloaded += buffer.byteLength;\n",
              "            progress.value = downloaded;\n",
              "          }\n",
              "        }\n",
              "      }\n",
              "      const blob = new Blob(buffers, {type: 'application/binary'});\n",
              "      const a = document.createElement('a');\n",
              "      a.href = window.URL.createObjectURL(blob);\n",
              "      a.download = filename;\n",
              "      div.appendChild(a);\n",
              "      a.click();\n",
              "      div.remove();\n",
              "    }\n",
              "  "
            ]
          },
          "metadata": {}
        },
        {
          "output_type": "display_data",
          "data": {
            "text/plain": [
              "<IPython.core.display.Javascript object>"
            ],
            "application/javascript": [
              "download(\"download_b0c68d3d-e806-434e-9c49-725e1ab6fa1e\", \"predictions.csv\", 691221)"
            ]
          },
          "metadata": {}
        }
      ]
    },
    {
      "cell_type": "markdown",
      "source": [],
      "metadata": {
        "id": "bkyMZuZQ0Iv4"
      }
    },
    {
      "cell_type": "code",
      "source": [
        "from sklearn.model_selection import KFold\n",
        "from skopt import BayesSearchCV\n",
        "from skopt.space import Real, Integer\n",
        "import xgboost as xgb\n",
        "import pandas as pd\n",
        "\n",
        "# Define parameter search space\n",
        "search_spaces = {\n",
        "    'learning_rate': Real(0.001, 0.5, 'uniform'),\n",
        "    'max_depth': Integer(2, 7),\n",
        "    'n_estimators': Integer(100, 500),\n",
        "    'subsample': Real(0.5, 1.0, 'uniform'),\n",
        "    'colsample_bytree': Real(0.5, 1.0, 'uniform'),\n",
        "    'gamma': Real(0, 10, 'uniform'),\n",
        "    'reg_alpha': Real(0, 10, 'uniform'),\n",
        "    'reg_lambda': Real(0, 10, 'uniform')\n",
        "}\n",
        "\n",
        "# Initialize the XGBClassifier model with GPU support\n",
        "model = xgb.XGBClassifier(\n",
        "    objective='binary:logistic',  # Use for binary classification\n",
        "    tree_method='hist',  # Use GPU for training\n",
        "    verbosity=2\n",
        ")\n",
        "\n",
        "kf = KFold(n_splits=5)  # 5-fold cross-validation\n",
        "\n",
        "# Using 'roc_auc' as the scoring metric\n",
        "optimizer = BayesSearchCV(\n",
        "    estimator=model,\n",
        "    search_spaces=search_spaces,\n",
        "    n_iter=124,\n",
        "    cv=kf,\n",
        "    scoring='roc_auc',\n",
        "    verbose=1,\n",
        "    n_jobs=-1,\n",
        "    return_train_score=True\n",
        ")\n",
        "\n",
        "# Fit the optimizer using X_train and y_train\n",
        "optimizer.fit(X_train, y_train)\n",
        "\n",
        "# Get cross-validation results\n",
        "cv_results = optimizer.cv_results_\n",
        "\n",
        "# Create a DataFrame to sort and filter the best models\n",
        "results_df = pd.DataFrame(cv_results)\n",
        "top_5_results = results_df.nlargest(5, 'mean_test_score')  # Get top 10 models by mean test score\n",
        "\n",
        "# Train each of the top 10 models on the full training data and save them\n",
        "top_5_models = []\n",
        "for i, row in top_5_results.iterrows():\n",
        "    params = row['params']\n",
        "    model = xgb.XGBClassifier(\n",
        "        objective='binary:logistic',\n",
        "        tree_method='hist',\n",
        "        **params\n",
        "    )\n",
        "    model.fit(X_train, y_train)\n",
        "    top_5_models.append(model)\n",
        "\n",
        "# Optionally, print parameters and scores for the top 10 models\n",
        "for idx, model in enumerate(top_5_models):\n",
        "    print(f\"Model {idx + 1} parameters: {top_5_results.iloc[idx]['params']}\")\n",
        "    print(f\"Model {idx + 1} CV score: {top_5_results.iloc[idx]['mean_test_score']}\")\n",
        "\n",
        "print(\"Top 10 XGBoost models have been trained and saved.\")\n"
      ],
      "metadata": {
        "colab": {
          "base_uri": "https://localhost:8080/"
        },
        "id": "lRZweTWYs3VZ",
        "outputId": "e55966af-3fe8-4b57-97af-2931573fffad"
      },
      "execution_count": 257,
      "outputs": [
        {
          "metadata": {
            "tags": null
          },
          "name": "stdout",
          "output_type": "stream",
          "text": [
            "Fitting 5 folds for each of 1 candidates, totalling 5 fits\n",
            "Fitting 5 folds for each of 1 candidates, totalling 5 fits\n",
            "Fitting 5 folds for each of 1 candidates, totalling 5 fits\n",
            "Fitting 5 folds for each of 1 candidates, totalling 5 fits\n",
            "Fitting 5 folds for each of 1 candidates, totalling 5 fits\n",
            "Fitting 5 folds for each of 1 candidates, totalling 5 fits\n",
            "Fitting 5 folds for each of 1 candidates, totalling 5 fits\n",
            "Fitting 5 folds for each of 1 candidates, totalling 5 fits\n",
            "Fitting 5 folds for each of 1 candidates, totalling 5 fits\n",
            "Fitting 5 folds for each of 1 candidates, totalling 5 fits\n",
            "Fitting 5 folds for each of 1 candidates, totalling 5 fits\n",
            "Fitting 5 folds for each of 1 candidates, totalling 5 fits\n",
            "Fitting 5 folds for each of 1 candidates, totalling 5 fits\n",
            "Fitting 5 folds for each of 1 candidates, totalling 5 fits\n",
            "Fitting 5 folds for each of 1 candidates, totalling 5 fits\n",
            "Fitting 5 folds for each of 1 candidates, totalling 5 fits\n",
            "Fitting 5 folds for each of 1 candidates, totalling 5 fits\n",
            "Fitting 5 folds for each of 1 candidates, totalling 5 fits\n",
            "Fitting 5 folds for each of 1 candidates, totalling 5 fits\n",
            "Fitting 5 folds for each of 1 candidates, totalling 5 fits\n",
            "Fitting 5 folds for each of 1 candidates, totalling 5 fits\n",
            "Fitting 5 folds for each of 1 candidates, totalling 5 fits\n",
            "Fitting 5 folds for each of 1 candidates, totalling 5 fits\n",
            "Fitting 5 folds for each of 1 candidates, totalling 5 fits\n",
            "Fitting 5 folds for each of 1 candidates, totalling 5 fits\n",
            "Fitting 5 folds for each of 1 candidates, totalling 5 fits\n",
            "Fitting 5 folds for each of 1 candidates, totalling 5 fits\n",
            "Fitting 5 folds for each of 1 candidates, totalling 5 fits\n",
            "Fitting 5 folds for each of 1 candidates, totalling 5 fits\n",
            "Fitting 5 folds for each of 1 candidates, totalling 5 fits\n",
            "Fitting 5 folds for each of 1 candidates, totalling 5 fits\n",
            "Fitting 5 folds for each of 1 candidates, totalling 5 fits\n",
            "Fitting 5 folds for each of 1 candidates, totalling 5 fits\n",
            "Fitting 5 folds for each of 1 candidates, totalling 5 fits\n",
            "Fitting 5 folds for each of 1 candidates, totalling 5 fits\n",
            "Fitting 5 folds for each of 1 candidates, totalling 5 fits\n",
            "Fitting 5 folds for each of 1 candidates, totalling 5 fits\n",
            "Fitting 5 folds for each of 1 candidates, totalling 5 fits\n",
            "Fitting 5 folds for each of 1 candidates, totalling 5 fits\n",
            "Fitting 5 folds for each of 1 candidates, totalling 5 fits\n",
            "Fitting 5 folds for each of 1 candidates, totalling 5 fits\n",
            "Fitting 5 folds for each of 1 candidates, totalling 5 fits\n",
            "Fitting 5 folds for each of 1 candidates, totalling 5 fits\n",
            "Fitting 5 folds for each of 1 candidates, totalling 5 fits\n",
            "Fitting 5 folds for each of 1 candidates, totalling 5 fits\n",
            "Fitting 5 folds for each of 1 candidates, totalling 5 fits\n",
            "Fitting 5 folds for each of 1 candidates, totalling 5 fits\n",
            "Fitting 5 folds for each of 1 candidates, totalling 5 fits\n",
            "Fitting 5 folds for each of 1 candidates, totalling 5 fits\n",
            "Fitting 5 folds for each of 1 candidates, totalling 5 fits\n",
            "Fitting 5 folds for each of 1 candidates, totalling 5 fits\n",
            "Fitting 5 folds for each of 1 candidates, totalling 5 fits\n",
            "Fitting 5 folds for each of 1 candidates, totalling 5 fits\n",
            "Fitting 5 folds for each of 1 candidates, totalling 5 fits\n",
            "Fitting 5 folds for each of 1 candidates, totalling 5 fits\n",
            "Fitting 5 folds for each of 1 candidates, totalling 5 fits\n",
            "Fitting 5 folds for each of 1 candidates, totalling 5 fits\n",
            "Fitting 5 folds for each of 1 candidates, totalling 5 fits\n",
            "Fitting 5 folds for each of 1 candidates, totalling 5 fits\n",
            "Fitting 5 folds for each of 1 candidates, totalling 5 fits\n",
            "Fitting 5 folds for each of 1 candidates, totalling 5 fits\n",
            "Fitting 5 folds for each of 1 candidates, totalling 5 fits\n",
            "Fitting 5 folds for each of 1 candidates, totalling 5 fits\n",
            "Fitting 5 folds for each of 1 candidates, totalling 5 fits\n",
            "Fitting 5 folds for each of 1 candidates, totalling 5 fits\n",
            "Fitting 5 folds for each of 1 candidates, totalling 5 fits\n",
            "Fitting 5 folds for each of 1 candidates, totalling 5 fits\n",
            "Fitting 5 folds for each of 1 candidates, totalling 5 fits\n",
            "Fitting 5 folds for each of 1 candidates, totalling 5 fits\n",
            "Fitting 5 folds for each of 1 candidates, totalling 5 fits\n",
            "Fitting 5 folds for each of 1 candidates, totalling 5 fits\n",
            "Fitting 5 folds for each of 1 candidates, totalling 5 fits\n",
            "Fitting 5 folds for each of 1 candidates, totalling 5 fits\n",
            "Fitting 5 folds for each of 1 candidates, totalling 5 fits\n",
            "Fitting 5 folds for each of 1 candidates, totalling 5 fits\n",
            "Fitting 5 folds for each of 1 candidates, totalling 5 fits\n",
            "Fitting 5 folds for each of 1 candidates, totalling 5 fits\n",
            "Fitting 5 folds for each of 1 candidates, totalling 5 fits\n",
            "Fitting 5 folds for each of 1 candidates, totalling 5 fits\n",
            "Fitting 5 folds for each of 1 candidates, totalling 5 fits\n",
            "Fitting 5 folds for each of 1 candidates, totalling 5 fits\n",
            "Fitting 5 folds for each of 1 candidates, totalling 5 fits\n",
            "Fitting 5 folds for each of 1 candidates, totalling 5 fits\n",
            "Fitting 5 folds for each of 1 candidates, totalling 5 fits\n",
            "Fitting 5 folds for each of 1 candidates, totalling 5 fits\n",
            "Fitting 5 folds for each of 1 candidates, totalling 5 fits\n",
            "Fitting 5 folds for each of 1 candidates, totalling 5 fits\n",
            "Fitting 5 folds for each of 1 candidates, totalling 5 fits\n",
            "Fitting 5 folds for each of 1 candidates, totalling 5 fits\n",
            "Fitting 5 folds for each of 1 candidates, totalling 5 fits\n",
            "Fitting 5 folds for each of 1 candidates, totalling 5 fits\n",
            "Fitting 5 folds for each of 1 candidates, totalling 5 fits\n",
            "Fitting 5 folds for each of 1 candidates, totalling 5 fits\n",
            "Fitting 5 folds for each of 1 candidates, totalling 5 fits\n",
            "Fitting 5 folds for each of 1 candidates, totalling 5 fits\n",
            "Fitting 5 folds for each of 1 candidates, totalling 5 fits\n",
            "Fitting 5 folds for each of 1 candidates, totalling 5 fits\n",
            "Fitting 5 folds for each of 1 candidates, totalling 5 fits\n",
            "Fitting 5 folds for each of 1 candidates, totalling 5 fits\n",
            "Fitting 5 folds for each of 1 candidates, totalling 5 fits\n",
            "Fitting 5 folds for each of 1 candidates, totalling 5 fits\n",
            "Fitting 5 folds for each of 1 candidates, totalling 5 fits\n",
            "Fitting 5 folds for each of 1 candidates, totalling 5 fits\n",
            "Fitting 5 folds for each of 1 candidates, totalling 5 fits\n",
            "Fitting 5 folds for each of 1 candidates, totalling 5 fits\n",
            "Fitting 5 folds for each of 1 candidates, totalling 5 fits\n",
            "Fitting 5 folds for each of 1 candidates, totalling 5 fits\n",
            "Fitting 5 folds for each of 1 candidates, totalling 5 fits\n",
            "Fitting 5 folds for each of 1 candidates, totalling 5 fits\n",
            "Fitting 5 folds for each of 1 candidates, totalling 5 fits\n",
            "Fitting 5 folds for each of 1 candidates, totalling 5 fits\n",
            "Fitting 5 folds for each of 1 candidates, totalling 5 fits\n",
            "Fitting 5 folds for each of 1 candidates, totalling 5 fits\n",
            "Fitting 5 folds for each of 1 candidates, totalling 5 fits\n",
            "Fitting 5 folds for each of 1 candidates, totalling 5 fits\n",
            "Fitting 5 folds for each of 1 candidates, totalling 5 fits\n",
            "Fitting 5 folds for each of 1 candidates, totalling 5 fits\n",
            "Fitting 5 folds for each of 1 candidates, totalling 5 fits\n",
            "Fitting 5 folds for each of 1 candidates, totalling 5 fits\n",
            "Fitting 5 folds for each of 1 candidates, totalling 5 fits\n",
            "Fitting 5 folds for each of 1 candidates, totalling 5 fits\n",
            "Fitting 5 folds for each of 1 candidates, totalling 5 fits\n",
            "Fitting 5 folds for each of 1 candidates, totalling 5 fits\n",
            "Fitting 5 folds for each of 1 candidates, totalling 5 fits\n",
            "Model 1 parameters: OrderedDict([('colsample_bytree', 0.6737625203398547), ('gamma', 0.0), ('learning_rate', 0.2568469984076869), ('max_depth', 2), ('n_estimators', 500), ('reg_alpha', 0.0), ('reg_lambda', 10.0), ('subsample', 0.7885633993918746)])\n",
            "Model 1 CV score: 0.9912022281297037\n",
            "Model 2 parameters: OrderedDict([('colsample_bytree', 0.6026666756046757), ('gamma', 2.878686003556186), ('learning_rate', 0.3371600640383515), ('max_depth', 2), ('n_estimators', 500), ('reg_alpha', 0.0), ('reg_lambda', 10.0), ('subsample', 0.6634980381413897)])\n",
            "Model 2 CV score: 0.9911611859247152\n",
            "Model 3 parameters: OrderedDict([('colsample_bytree', 0.5), ('gamma', 2.02277966979983), ('learning_rate', 0.07789291868768226), ('max_depth', 6), ('n_estimators', 500), ('reg_alpha', 0.0), ('reg_lambda', 6.642539318241974), ('subsample', 0.7341661033008822)])\n",
            "Model 3 CV score: 0.9911042760438008\n",
            "Model 4 parameters: OrderedDict([('colsample_bytree', 1.0), ('gamma', 3.129100914135152), ('learning_rate', 0.1305886190133869), ('max_depth', 5), ('n_estimators', 500), ('reg_alpha', 0.0), ('reg_lambda', 8.946556685391876), ('subsample', 0.6426596105066108)])\n",
            "Model 4 CV score: 0.9910753965192776\n",
            "Model 5 parameters: OrderedDict([('colsample_bytree', 1.0), ('gamma', 0.0), ('learning_rate', 0.20124784348009145), ('max_depth', 2), ('n_estimators', 500), ('reg_alpha', 0.0), ('reg_lambda', 1.768402038005745), ('subsample', 0.7401832971109696)])\n",
            "Model 5 CV score: 0.9910574826585791\n",
            "Top 10 XGBoost models have been trained and saved.\n"
          ]
        }
      ]
    }
  ]
}
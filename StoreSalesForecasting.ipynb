{
  "nbformat": 4,
  "nbformat_minor": 0,
  "metadata": {
    "colab": {
      "provenance": [],
      "gpuType": "V28",
      "machine_shape": "hm",
      "authorship_tag": "ABX9TyPHlF5DE9mJRxMSCw/TJC0X",
      "include_colab_link": true
    },
    "kernelspec": {
      "name": "python3",
      "display_name": "Python 3"
    },
    "language_info": {
      "name": "python"
    },
    "accelerator": "TPU"
  },
  "cells": [
    {
      "cell_type": "markdown",
      "metadata": {
        "id": "view-in-github",
        "colab_type": "text"
      },
      "source": [
        "<a href=\"https://colab.research.google.com/github/geopan2000/Store-Sales-Forecasting/blob/main/StoreSalesForecasting.ipynb\" target=\"_parent\"><img src=\"https://colab.research.google.com/assets/colab-badge.svg\" alt=\"Open In Colab\"/></a>"
      ]
    },
    {
      "cell_type": "code",
      "source": [
        "from google.colab import drive\n",
        "drive.mount('/content/drive')\n",
        "\n",
        "# Clone the GitHub repository\n",
        "!git clone https://github.com/geopan2000/Store-Sales-Forecasting.git\n",
        "\n",
        "# Change directory to the cloned repository\n",
        "%cd Store-Sales-Forecasting\n"
      ],
      "metadata": {
        "id": "zMgR93ynAmBZ",
        "outputId": "403aeecd-69a6-4b6a-d680-3e66cdf1df2f",
        "colab": {
          "base_uri": "https://localhost:8080/"
        }
      },
      "execution_count": 1,
      "outputs": [
        {
          "output_type": "stream",
          "name": "stdout",
          "text": [
            "Mounted at /content/drive\n",
            "Cloning into 'Store-Sales-Forecasting'...\n",
            "remote: Enumerating objects: 21, done.\u001b[K\n",
            "remote: Counting objects: 100% (21/21), done.\u001b[K\n",
            "remote: Compressing objects: 100% (19/19), done.\u001b[K\n",
            "remote: Total 21 (delta 0), reused 0 (delta 0), pack-reused 0 (from 0)\u001b[K\n",
            "Receiving objects: 100% (21/21), 239.35 KiB | 2.99 MiB/s, done.\n",
            "/content/Store-Sales-Forecasting\n"
          ]
        }
      ]
    },
    {
      "cell_type": "code",
      "source": [
        "import pandas as pd"
      ],
      "metadata": {
        "id": "wepb8tzv8Mqb"
      },
      "execution_count": 2,
      "outputs": []
    },
    {
      "cell_type": "code",
      "source": [
        "holidays_events_df = pd.read_csv('/content/drive/MyDrive/StoreSalesForecasting/holidays_events.csv')\n",
        "oil_df = pd.read_csv('/content/drive/MyDrive/StoreSalesForecasting/oil.csv')\n",
        "sample_submission_df = pd.read_csv('/content/drive/MyDrive/StoreSalesForecasting/sample_submission.csv')\n",
        "stores_df = pd.read_csv('/content/drive/MyDrive/StoreSalesForecasting/stores.csv')\n",
        "test_df = pd.read_csv('/content/drive/MyDrive/StoreSalesForecasting/test.csv')\n",
        "train_df = pd.read_csv('/content/drive/MyDrive/StoreSalesForecasting/train.csv')\n",
        "transactions_df = pd.read_csv('/content/drive/MyDrive/StoreSalesForecasting/transactions.csv')"
      ],
      "metadata": {
        "id": "XRmaZGMO8Rkg"
      },
      "execution_count": 36,
      "outputs": []
    },
    {
      "cell_type": "code",
      "source": [
        "print(train_df)"
      ],
      "metadata": {
        "id": "RxkZinLqBWzu",
        "outputId": "0338465b-63ae-4f3e-a2e9-6efcb113b064",
        "colab": {
          "base_uri": "https://localhost:8080/"
        }
      },
      "execution_count": 6,
      "outputs": [
        {
          "output_type": "stream",
          "name": "stdout",
          "text": [
            "              id        date  store_nbr                      family     sales  \\\n",
            "0              0  2013-01-01          1                  AUTOMOTIVE     0.000   \n",
            "1              1  2013-01-01          1                   BABY CARE     0.000   \n",
            "2              2  2013-01-01          1                      BEAUTY     0.000   \n",
            "3              3  2013-01-01          1                   BEVERAGES     0.000   \n",
            "4              4  2013-01-01          1                       BOOKS     0.000   \n",
            "...          ...         ...        ...                         ...       ...   \n",
            "3000883  3000883  2017-08-15          9                     POULTRY   438.133   \n",
            "3000884  3000884  2017-08-15          9              PREPARED FOODS   154.553   \n",
            "3000885  3000885  2017-08-15          9                     PRODUCE  2419.729   \n",
            "3000886  3000886  2017-08-15          9  SCHOOL AND OFFICE SUPPLIES   121.000   \n",
            "3000887  3000887  2017-08-15          9                     SEAFOOD    16.000   \n",
            "\n",
            "         onpromotion  \n",
            "0                  0  \n",
            "1                  0  \n",
            "2                  0  \n",
            "3                  0  \n",
            "4                  0  \n",
            "...              ...  \n",
            "3000883            0  \n",
            "3000884            1  \n",
            "3000885          148  \n",
            "3000886            8  \n",
            "3000887            0  \n",
            "\n",
            "[3000888 rows x 6 columns]\n"
          ]
        }
      ]
    },
    {
      "cell_type": "code",
      "source": [
        "print(oil_df)"
      ],
      "metadata": {
        "id": "OWyG7FIPBggQ",
        "outputId": "a9ca3b03-1998-4eae-bb38-6b2ef6dae9d3",
        "colab": {
          "base_uri": "https://localhost:8080/"
        }
      },
      "execution_count": 7,
      "outputs": [
        {
          "output_type": "stream",
          "name": "stdout",
          "text": [
            "            date  dcoilwtico\n",
            "0     2013-01-01         NaN\n",
            "1     2013-01-02       93.14\n",
            "2     2013-01-03       92.97\n",
            "3     2013-01-04       93.12\n",
            "4     2013-01-07       93.20\n",
            "...          ...         ...\n",
            "1213  2017-08-25       47.65\n",
            "1214  2017-08-28       46.40\n",
            "1215  2017-08-29       46.46\n",
            "1216  2017-08-30       45.96\n",
            "1217  2017-08-31       47.26\n",
            "\n",
            "[1218 rows x 2 columns]\n"
          ]
        }
      ]
    },
    {
      "cell_type": "code",
      "source": [
        "print(stores_df)"
      ],
      "metadata": {
        "id": "s6tSdWcIBp-h",
        "outputId": "02129480-14f6-4d14-bbdd-e566da7337df",
        "colab": {
          "base_uri": "https://localhost:8080/"
        }
      },
      "execution_count": 8,
      "outputs": [
        {
          "output_type": "stream",
          "name": "stdout",
          "text": [
            "    store_nbr           city                           state type  cluster\n",
            "0           1          Quito                       Pichincha    D       13\n",
            "1           2          Quito                       Pichincha    D       13\n",
            "2           3          Quito                       Pichincha    D        8\n",
            "3           4          Quito                       Pichincha    D        9\n",
            "4           5  Santo Domingo  Santo Domingo de los Tsachilas    D        4\n",
            "5           6          Quito                       Pichincha    D       13\n",
            "6           7          Quito                       Pichincha    D        8\n",
            "7           8          Quito                       Pichincha    D        8\n",
            "8           9          Quito                       Pichincha    B        6\n",
            "9          10          Quito                       Pichincha    C       15\n",
            "10         11        Cayambe                       Pichincha    B        6\n",
            "11         12      Latacunga                        Cotopaxi    C       15\n",
            "12         13      Latacunga                        Cotopaxi    C       15\n",
            "13         14       Riobamba                      Chimborazo    C        7\n",
            "14         15         Ibarra                        Imbabura    C       15\n",
            "15         16  Santo Domingo  Santo Domingo de los Tsachilas    C        3\n",
            "16         17          Quito                       Pichincha    C       12\n",
            "17         18          Quito                       Pichincha    B       16\n",
            "18         19       Guaranda                         Bolivar    C       15\n",
            "19         20          Quito                       Pichincha    B        6\n",
            "20         21  Santo Domingo  Santo Domingo de los Tsachilas    B        6\n",
            "21         22           Puyo                         Pastaza    C        7\n",
            "22         23         Ambato                      Tungurahua    D        9\n",
            "23         24      Guayaquil                          Guayas    D        1\n",
            "24         25        Salinas                     Santa Elena    D        1\n",
            "25         26      Guayaquil                          Guayas    D       10\n",
            "26         27          Daule                          Guayas    D        1\n",
            "27         28      Guayaquil                          Guayas    E       10\n",
            "28         29      Guayaquil                          Guayas    E       10\n",
            "29         30      Guayaquil                          Guayas    C        3\n",
            "30         31       Babahoyo                        Los Rios    B       10\n",
            "31         32      Guayaquil                          Guayas    C        3\n",
            "32         33        Quevedo                        Los Rios    C        3\n",
            "33         34      Guayaquil                          Guayas    B        6\n",
            "34         35         Playas                          Guayas    C        3\n",
            "35         36       Libertad                          Guayas    E       10\n",
            "36         37         Cuenca                           Azuay    D        2\n",
            "37         38           Loja                            Loja    D        4\n",
            "38         39         Cuenca                           Azuay    B        6\n",
            "39         40        Machala                          El Oro    C        3\n",
            "40         41        Machala                          El Oro    D        4\n",
            "41         42         Cuenca                           Azuay    D        2\n",
            "42         43     Esmeraldas                      Esmeraldas    E       10\n",
            "43         44          Quito                       Pichincha    A        5\n",
            "44         45          Quito                       Pichincha    A       11\n",
            "45         46          Quito                       Pichincha    A       14\n",
            "46         47          Quito                       Pichincha    A       14\n",
            "47         48          Quito                       Pichincha    A       14\n",
            "48         49          Quito                       Pichincha    A       11\n",
            "49         50         Ambato                      Tungurahua    A       14\n",
            "50         51      Guayaquil                          Guayas    A       17\n",
            "51         52          Manta                          Manabi    A       11\n",
            "52         53          Manta                          Manabi    D       13\n",
            "53         54      El Carmen                          Manabi    C        3\n"
          ]
        }
      ]
    },
    {
      "cell_type": "code",
      "source": [
        "print(test_df)"
      ],
      "metadata": {
        "id": "rd7tKCt-CKQI",
        "outputId": "23d922f2-bd97-4dd1-ef37-56f0168f92ae",
        "colab": {
          "base_uri": "https://localhost:8080/"
        }
      },
      "execution_count": 9,
      "outputs": [
        {
          "output_type": "stream",
          "name": "stdout",
          "text": [
            "            id        date  store_nbr                      family  onpromotion\n",
            "0      3000888  2017-08-16          1                  AUTOMOTIVE            0\n",
            "1      3000889  2017-08-16          1                   BABY CARE            0\n",
            "2      3000890  2017-08-16          1                      BEAUTY            2\n",
            "3      3000891  2017-08-16          1                   BEVERAGES           20\n",
            "4      3000892  2017-08-16          1                       BOOKS            0\n",
            "...        ...         ...        ...                         ...          ...\n",
            "28507  3029395  2017-08-31          9                     POULTRY            1\n",
            "28508  3029396  2017-08-31          9              PREPARED FOODS            0\n",
            "28509  3029397  2017-08-31          9                     PRODUCE            1\n",
            "28510  3029398  2017-08-31          9  SCHOOL AND OFFICE SUPPLIES            9\n",
            "28511  3029399  2017-08-31          9                     SEAFOOD            0\n",
            "\n",
            "[28512 rows x 5 columns]\n"
          ]
        }
      ]
    },
    {
      "cell_type": "code",
      "source": [
        "print(transactions_df)"
      ],
      "metadata": {
        "id": "asaEBmqECehf",
        "outputId": "14c5f171-1f95-4857-8665-6594a8ad11bf",
        "colab": {
          "base_uri": "https://localhost:8080/"
        }
      },
      "execution_count": 10,
      "outputs": [
        {
          "output_type": "stream",
          "name": "stdout",
          "text": [
            "             date  store_nbr  transactions\n",
            "0      2013-01-01         25           770\n",
            "1      2013-01-02          1          2111\n",
            "2      2013-01-02          2          2358\n",
            "3      2013-01-02          3          3487\n",
            "4      2013-01-02          4          1922\n",
            "...           ...        ...           ...\n",
            "83483  2017-08-15         50          2804\n",
            "83484  2017-08-15         51          1573\n",
            "83485  2017-08-15         52          2255\n",
            "83486  2017-08-15         53           932\n",
            "83487  2017-08-15         54           802\n",
            "\n",
            "[83488 rows x 3 columns]\n"
          ]
        }
      ]
    },
    {
      "cell_type": "code",
      "source": [
        "print(holidays_events_df)\n",
        "holidays_events_df = holidays_events_df[holidays_events_df['transferred'] == False]  # Keep only rows where transferred is False\n",
        "holidays_events_df = holidays_events_df.drop(columns=['transferred'])  # Then drop the column\n",
        "holidays_events_df = holidays_events_df.rename(columns={'type': 'holiday_type'})  # Rename the column"
      ],
      "metadata": {
        "id": "4uod8B48FuaR",
        "outputId": "23ec5d08-fba0-4fb9-ab21-f095a96fb26e",
        "colab": {
          "base_uri": "https://localhost:8080/"
        }
      },
      "execution_count": 37,
      "outputs": [
        {
          "output_type": "stream",
          "name": "stdout",
          "text": [
            "           date        type    locale locale_name  \\\n",
            "0    2012-03-02     Holiday     Local       Manta   \n",
            "1    2012-04-01     Holiday  Regional    Cotopaxi   \n",
            "2    2012-04-12     Holiday     Local      Cuenca   \n",
            "3    2012-04-14     Holiday     Local    Libertad   \n",
            "4    2012-04-21     Holiday     Local    Riobamba   \n",
            "..          ...         ...       ...         ...   \n",
            "345  2017-12-22  Additional  National     Ecuador   \n",
            "346  2017-12-23  Additional  National     Ecuador   \n",
            "347  2017-12-24  Additional  National     Ecuador   \n",
            "348  2017-12-25     Holiday  National     Ecuador   \n",
            "349  2017-12-26  Additional  National     Ecuador   \n",
            "\n",
            "                       description  transferred  \n",
            "0               Fundacion de Manta        False  \n",
            "1    Provincializacion de Cotopaxi        False  \n",
            "2              Fundacion de Cuenca        False  \n",
            "3        Cantonizacion de Libertad        False  \n",
            "4        Cantonizacion de Riobamba        False  \n",
            "..                             ...          ...  \n",
            "345                      Navidad-3        False  \n",
            "346                      Navidad-2        False  \n",
            "347                      Navidad-1        False  \n",
            "348                        Navidad        False  \n",
            "349                      Navidad+1        False  \n",
            "\n",
            "[350 rows x 6 columns]\n"
          ]
        }
      ]
    },
    {
      "cell_type": "code",
      "source": [
        "data = pd.concat([train_df, test_df]) #3000888 the first id in test set\n",
        "data = pd.merge(data, stores_df, on='store_nbr')\n",
        "data = pd.merge(data, oil_df, on='date')\n",
        "data = pd.merge(data, holidays_events_df, on='date', how='left')\n",
        "data = pd.merge(data, transactions_df, on=['date', 'store_nbr'], how='left')\n",
        "print(data)"
      ],
      "metadata": {
        "id": "Mwaj3XT6CzwP",
        "outputId": "83134b7c-f3d6-4518-98db-74e97924bef5",
        "colab": {
          "base_uri": "https://localhost:8080/"
        }
      },
      "execution_count": 39,
      "outputs": [
        {
          "output_type": "stream",
          "name": "stdout",
          "text": [
            "              id        date  store_nbr                      family  sales  \\\n",
            "0              0  2013-01-01          1                  AUTOMOTIVE    0.0   \n",
            "1              1  2013-01-01          1                   BABY CARE    0.0   \n",
            "2              2  2013-01-01          1                      BEAUTY    0.0   \n",
            "3              3  2013-01-01          1                   BEVERAGES    0.0   \n",
            "4              4  2013-01-01          1                       BOOKS    0.0   \n",
            "...          ...         ...        ...                         ...    ...   \n",
            "2197201  3029395  2017-08-31          9                     POULTRY    NaN   \n",
            "2197202  3029396  2017-08-31          9              PREPARED FOODS    NaN   \n",
            "2197203  3029397  2017-08-31          9                     PRODUCE    NaN   \n",
            "2197204  3029398  2017-08-31          9  SCHOOL AND OFFICE SUPPLIES    NaN   \n",
            "2197205  3029399  2017-08-31          9                     SEAFOOD    NaN   \n",
            "\n",
            "         onpromotion   city      state type  cluster  dcoilwtico holiday_type  \\\n",
            "0                  0  Quito  Pichincha    D       13         NaN      Holiday   \n",
            "1                  0  Quito  Pichincha    D       13         NaN      Holiday   \n",
            "2                  0  Quito  Pichincha    D       13         NaN      Holiday   \n",
            "3                  0  Quito  Pichincha    D       13         NaN      Holiday   \n",
            "4                  0  Quito  Pichincha    D       13         NaN      Holiday   \n",
            "...              ...    ...        ...  ...      ...         ...          ...   \n",
            "2197201            1  Quito  Pichincha    B        6       47.26          NaN   \n",
            "2197202            0  Quito  Pichincha    B        6       47.26          NaN   \n",
            "2197203            1  Quito  Pichincha    B        6       47.26          NaN   \n",
            "2197204            9  Quito  Pichincha    B        6       47.26          NaN   \n",
            "2197205            0  Quito  Pichincha    B        6       47.26          NaN   \n",
            "\n",
            "           locale locale_name         description  transactions  \n",
            "0        National     Ecuador  Primer dia del ano           NaN  \n",
            "1        National     Ecuador  Primer dia del ano           NaN  \n",
            "2        National     Ecuador  Primer dia del ano           NaN  \n",
            "3        National     Ecuador  Primer dia del ano           NaN  \n",
            "4        National     Ecuador  Primer dia del ano           NaN  \n",
            "...           ...         ...                 ...           ...  \n",
            "2197201       NaN         NaN                 NaN           NaN  \n",
            "2197202       NaN         NaN                 NaN           NaN  \n",
            "2197203       NaN         NaN                 NaN           NaN  \n",
            "2197204       NaN         NaN                 NaN           NaN  \n",
            "2197205       NaN         NaN                 NaN           NaN  \n",
            "\n",
            "[2197206 rows x 16 columns]\n"
          ]
        }
      ]
    },
    {
      "cell_type": "code",
      "source": [],
      "metadata": {
        "id": "20rAW80yMDRM"
      },
      "execution_count": null,
      "outputs": []
    },
    {
      "cell_type": "code",
      "source": [
        "data.to_csv('data.csv', index=False)"
      ],
      "metadata": {
        "id": "PEtwwnhRIm5g"
      },
      "execution_count": 34,
      "outputs": []
    }
  ]
}